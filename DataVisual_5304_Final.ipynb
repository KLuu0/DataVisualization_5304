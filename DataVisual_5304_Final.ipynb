{
 "cells": [
  {
   "cell_type": "markdown",
   "id": "abd2dc9b",
   "metadata": {},
   "source": [
    "# 📊 Student Performance Analysis\n",
    "\n",
    "An exploratory data analysis (EDA) to understand how gender, parental education, and test preparation influence student scores."
   ]
  },
  {
   "cell_type": "markdown",
   "id": "4f5ec292",
   "metadata": {},
   "source": [
    "## 1. Import Libraries"
   ]
  },
  {
   "cell_type": "code",
   "execution_count": null,
   "id": "4ea9960d",
   "metadata": {},
   "outputs": [],
   "source": [
    "import pandas as pd\n",
    "import numpy as np\n",
    "import matplotlib.pyplot as plt\n",
    "import seaborn as sns\n",
    "import altair as alt\n",
    "import missingno as msno\n",
    "import warnings\n",
    "\n",
    "%matplotlib inline\n",
    "warnings.filterwarnings(\"ignore\")"
   ]
  },
  {
   "cell_type": "markdown",
   "id": "a734a4e4",
   "metadata": {},
   "source": [
    "## 2. Load Dataset"
   ]
  },
  {
   "cell_type": "code",
   "execution_count": null,
   "id": "3320991e",
   "metadata": {},
   "outputs": [],
   "source": [
    "df = pd.read_csv('StudentsPerformance.csv')\n",
    "df.shape, df.head()"
   ]
  },
  {
   "cell_type": "markdown",
   "id": "9d5cc047",
   "metadata": {},
   "source": [
    "## 3. Dataset Overview"
   ]
  },
  {
   "cell_type": "code",
   "execution_count": null,
   "id": "1c9f67f1",
   "metadata": {},
   "outputs": [],
   "source": [
    "# Unique values and counts for categorical features\n",
    "for col in df.columns:\n",
    "    print(f\"{col}: {df[col].unique()}\\n\")\n",
    "\n",
    "df['gender'].value_counts()\n",
    "df['test preparation course'].value_counts()\n",
    "df['parental level of education'].value_counts()"
   ]
  },
  {
   "cell_type": "markdown",
   "id": "a2259e6b",
   "metadata": {},
   "source": [
    "## 4. Descriptive Statistics"
   ]
  },
  {
   "cell_type": "code",
   "execution_count": null,
   "id": "26a798a8",
   "metadata": {},
   "outputs": [],
   "source": [
    "df.groupby('gender')[['math score', 'reading score', 'writing score']].mean()\n",
    "df.groupby('test preparation course')[['math score', 'reading score', 'writing score']].mean()\n",
    "df.groupby('parental level of education')[['math score', 'reading score', 'writing score']].mean()"
   ]
  },
  {
   "cell_type": "markdown",
   "id": "0574eaf1",
   "metadata": {},
   "source": [
    "## 5. Derived Metrics: Average Score and Grade"
   ]
  },
  {
   "cell_type": "code",
   "execution_count": null,
   "id": "79f1b0ed",
   "metadata": {},
   "outputs": [],
   "source": [
    "df['average score'] = df[['math score', 'reading score', 'writing score']].mean(axis=1)\n",
    "\n",
    "def assign_grade(score):\n",
    "    if score >= 90: return 'A'\n",
    "    elif score >= 80: return 'B'\n",
    "    elif score >= 70: return 'C'\n",
    "    elif score >= 60: return 'D'\n",
    "    else: return 'F'\n",
    "\n",
    "df['grade'] = df['average score'].apply(assign_grade)"
   ]
  },
  {
   "cell_type": "markdown",
   "id": "f5362128",
   "metadata": {},
   "source": [
    "## 6. Distributions and Correlations"
   ]
  },
  {
   "cell_type": "code",
   "execution_count": null,
   "id": "80900b7f",
   "metadata": {},
   "outputs": [],
   "source": [
    "df[['math score', 'reading score', 'writing score']].hist(bins=15, figsize=(12, 5))\n",
    "\n",
    "sns.heatmap(df.corr(numeric_only=True), annot=True, cmap='coolwarm')\n",
    "plt.title('Correlation Between Scores')\n",
    "plt.show()"
   ]
  },
  {
   "cell_type": "markdown",
   "id": "91c60535",
   "metadata": {},
   "source": [
    "## 7. Do Male and Female Students Perform Equally Well?"
   ]
  },
  {
   "cell_type": "code",
   "execution_count": null,
   "id": "2ec0430c",
   "metadata": {},
   "outputs": [],
   "source": [
    "subjects = ['math score', 'reading score', 'writing score']\n",
    "for subject in subjects:\n",
    "    sns.boxplot(x='gender', y=subject, data=df, palette='Set2')\n",
    "    plt.title(f'{subject.title()} by Gender')\n",
    "    plt.show()"
   ]
  },
  {
   "cell_type": "markdown",
   "id": "6d8c82e0",
   "metadata": {},
   "source": [
    "**Insight:** Female students perform better in reading and writing, while male students score slightly higher in math."
   ]
  },
  {
   "cell_type": "markdown",
   "id": "71fc23f7",
   "metadata": {},
   "source": [
    "## 8. Does Test Preparation Improve Scores?"
   ]
  },
  {
   "cell_type": "code",
   "execution_count": null,
   "id": "959a2312",
   "metadata": {},
   "outputs": [],
   "source": [
    "for subject in subjects:\n",
    "    sns.boxplot(x='test preparation course', y=subject, data=df, palette='pastel')\n",
    "    plt.title(f'{subject.title()} vs Test Preparation Course')\n",
    "    plt.show()"
   ]
  },
  {
   "cell_type": "markdown",
   "id": "29a181ef",
   "metadata": {},
   "source": [
    "**Insight:** Students who completed the test preparation course scored higher across all subjects."
   ]
  },
  {
   "cell_type": "markdown",
   "id": "98405bc1",
   "metadata": {},
   "source": [
    "## 9. Does Parental Education Influence Performance?"
   ]
  },
  {
   "cell_type": "code",
   "execution_count": null,
   "id": "a55562d7",
   "metadata": {},
   "outputs": [],
   "source": [
    "edu_order = [\n",
    "    'some high school', 'high school', 'some college',\n",
    "    \"associate's degree\", \"bachelor's degree\", \"master's degree\"\n",
    "]\n",
    "\n",
    "for subject in subjects:\n",
    "    sns.boxplot(x='parental level of education', y=subject, data=df,\n",
    "                order=edu_order, palette='coolwarm')\n",
    "    plt.xticks(rotation=45)\n",
    "    plt.title(f'{subject.title()} vs Parental Education Level')\n",
    "    plt.show()"
   ]
  },
  {
   "cell_type": "markdown",
   "id": "24d7d0e6",
   "metadata": {},
   "source": [
    "**Insight:** Students with more highly educated parents, especially at the bachelor’s and master’s levels, perform better in reading and writing."
   ]
  },
  {
   "cell_type": "markdown",
   "id": "426e40a9",
   "metadata": {},
   "source": [
    "## 10. Optional: Interactive Chart with Altair"
   ]
  },
  {
   "cell_type": "code",
   "execution_count": null,
   "id": "90365298",
   "metadata": {},
   "outputs": [],
   "source": [
    "df['test preparation course'] = df['test preparation course'].map({\n",
    "    'none': 'No Prep',\n",
    "    'completed': 'Prep Completed'\n",
    "})\n",
    "\n",
    "choose_selection = alt.selection_point(\n",
    "    name='choose',\n",
    "    fields=['grade'],\n",
    "    bind=alt.binding_select(options=sorted(df['grade'].unique()), name='Select Grade')\n",
    ")\n",
    "\n",
    "alt.Chart(df).mark_arc().encode(\n",
    "    theta=alt.Theta(field=\"grade\", type=\"nominal\", aggregate=\"count\"),\n",
    "    color=alt.Color(field=\"test preparation course\", type=\"nominal\"),\n",
    "    tooltip=[\n",
    "        alt.Tooltip(field=\"test preparation course\", type=\"nominal\"),\n",
    "        alt.Tooltip(field=\"average score\", type=\"quantitative\", aggregate='mean'),\n",
    "    ]\n",
    ").add_params(\n",
    "    choose_selection\n",
    ").transform_filter(\n",
    "    choose_selection\n",
    ").properties(\n",
    "    title=\"Average Scores by Test Preparation Course\"\n",
    ").interactive()"
   ]
  },
  {
   "cell_type": "markdown",
   "id": "a4a21e2e",
   "metadata": {},
   "source": [
    "## 📌 Summary of Findings\n",
    "\n",
    "| Question | Conclusion |\n",
    "|----------|------------|\n",
    "| **Do female and male students perform equally well across subjects?** | No. Female students perform better in reading and writing, males slightly better in math. |\n",
    "| **Does completing a test preparation course improve performance?** | Yes. Students who completed the course perform better overall. |\n",
    "| **How does parental education affect student performance?** | Higher parental education correlates with better student outcomes, especially in reading and writing. |"
   ]
  }
 ],
 "metadata": {
  "kernelspec": {
   "display_name": "Python 3",
   "language": "python",
   "name": "python3"
  },
  "language_info": {
   "codemirror_mode": {
    "name": "ipython",
    "version": 3
   },
   "file_extension": ".py",
   "mimetype": "text/x-python",
   "name": "python",
   "nbconvert_exporter": "python",
   "pygments_lexer": "ipython3",
   "version": "3.12.2"
  }
 },
 "nbformat": 4,
 "nbformat_minor": 5
}
